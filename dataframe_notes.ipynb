{
 "cells": [
  {
   "cell_type": "code",
   "execution_count": 5,
   "metadata": {
    "collapsed": true
   },
   "outputs": [],
   "source": [
    "import pandas as pd\n",
    "import numpy as np"
   ]
  },
  {
   "cell_type": "code",
   "execution_count": 26,
   "outputs": [
    {
     "name": "stdout",
     "output_type": "stream",
     "text": [
      "Results: 15\n"
     ]
    },
    {
     "data": {
      "text/plain": "                                Title    Company                     Location  \\\n0    Data Analytics Engineer, YouTube     Google                 New York, NY   \n1                       Data Engineer  Microsoft  Bengaluru, Karnataka, India   \n2    Data Analytics Engineer, YouTube     Google              Los Angeles, CA   \n60   Data Analytics Engineer, YouTube     Google                 New York, NY   \n61                      Data Engineer  Microsoft  Bengaluru, Karnataka, India   \n62   Data Analytics Engineer, YouTube     Google              Los Angeles, CA   \n120  Data Analytics Engineer, YouTube     Google                 New York, NY   \n121                     Data Engineer  Microsoft  Bengaluru, Karnataka, India   \n122  Data Analytics Engineer, YouTube     Google              Los Angeles, CA   \n180  Data Analytics Engineer, YouTube     Google                 New York, NY   \n181                     Data Engineer  Microsoft  Bengaluru, Karnataka, India   \n182  Data Analytics Engineer, YouTube     Google              Los Angeles, CA   \n240  Data Analytics Engineer, YouTube     Google                 New York, NY   \n241                     Data Engineer  Microsoft  Bengaluru, Karnataka, India   \n242  Data Analytics Engineer, YouTube     Google              Los Angeles, CA   \n\n                                              Job Link  \n0    https://www.linkedin.com/jobs/view/data-analyt...  \n1    https://in.linkedin.com/jobs/view/%E2%80%8B%E2...  \n2    https://www.linkedin.com/jobs/view/data-analyt...  \n60   https://www.linkedin.com/jobs/view/data-analyt...  \n61   https://in.linkedin.com/jobs/view/%E2%80%8B%E2...  \n62   https://www.linkedin.com/jobs/view/data-analyt...  \n120  https://www.linkedin.com/jobs/view/data-analyt...  \n121  https://in.linkedin.com/jobs/view/%E2%80%8B%E2...  \n122  https://www.linkedin.com/jobs/view/data-analyt...  \n180  https://www.linkedin.com/jobs/view/data-analyt...  \n181  https://in.linkedin.com/jobs/view/%E2%80%8B%E2...  \n182  https://www.linkedin.com/jobs/view/data-analyt...  \n240  https://www.linkedin.com/jobs/view/data-analyt...  \n241  https://in.linkedin.com/jobs/view/%E2%80%8B%E2...  \n242  https://www.linkedin.com/jobs/view/data-analyt...  ",
      "text/html": "<div>\n<style scoped>\n    .dataframe tbody tr th:only-of-type {\n        vertical-align: middle;\n    }\n\n    .dataframe tbody tr th {\n        vertical-align: top;\n    }\n\n    .dataframe thead th {\n        text-align: right;\n    }\n</style>\n<table border=\"1\" class=\"dataframe\">\n  <thead>\n    <tr style=\"text-align: right;\">\n      <th></th>\n      <th>Title</th>\n      <th>Company</th>\n      <th>Location</th>\n      <th>Job Link</th>\n    </tr>\n  </thead>\n  <tbody>\n    <tr>\n      <th>0</th>\n      <td>Data Analytics Engineer, YouTube</td>\n      <td>Google</td>\n      <td>New York, NY</td>\n      <td>https://www.linkedin.com/jobs/view/data-analyt...</td>\n    </tr>\n    <tr>\n      <th>1</th>\n      <td>Data Engineer</td>\n      <td>Microsoft</td>\n      <td>Bengaluru, Karnataka, India</td>\n      <td>https://in.linkedin.com/jobs/view/%E2%80%8B%E2...</td>\n    </tr>\n    <tr>\n      <th>2</th>\n      <td>Data Analytics Engineer, YouTube</td>\n      <td>Google</td>\n      <td>Los Angeles, CA</td>\n      <td>https://www.linkedin.com/jobs/view/data-analyt...</td>\n    </tr>\n    <tr>\n      <th>60</th>\n      <td>Data Analytics Engineer, YouTube</td>\n      <td>Google</td>\n      <td>New York, NY</td>\n      <td>https://www.linkedin.com/jobs/view/data-analyt...</td>\n    </tr>\n    <tr>\n      <th>61</th>\n      <td>Data Engineer</td>\n      <td>Microsoft</td>\n      <td>Bengaluru, Karnataka, India</td>\n      <td>https://in.linkedin.com/jobs/view/%E2%80%8B%E2...</td>\n    </tr>\n    <tr>\n      <th>62</th>\n      <td>Data Analytics Engineer, YouTube</td>\n      <td>Google</td>\n      <td>Los Angeles, CA</td>\n      <td>https://www.linkedin.com/jobs/view/data-analyt...</td>\n    </tr>\n    <tr>\n      <th>120</th>\n      <td>Data Analytics Engineer, YouTube</td>\n      <td>Google</td>\n      <td>New York, NY</td>\n      <td>https://www.linkedin.com/jobs/view/data-analyt...</td>\n    </tr>\n    <tr>\n      <th>121</th>\n      <td>Data Engineer</td>\n      <td>Microsoft</td>\n      <td>Bengaluru, Karnataka, India</td>\n      <td>https://in.linkedin.com/jobs/view/%E2%80%8B%E2...</td>\n    </tr>\n    <tr>\n      <th>122</th>\n      <td>Data Analytics Engineer, YouTube</td>\n      <td>Google</td>\n      <td>Los Angeles, CA</td>\n      <td>https://www.linkedin.com/jobs/view/data-analyt...</td>\n    </tr>\n    <tr>\n      <th>180</th>\n      <td>Data Analytics Engineer, YouTube</td>\n      <td>Google</td>\n      <td>New York, NY</td>\n      <td>https://www.linkedin.com/jobs/view/data-analyt...</td>\n    </tr>\n    <tr>\n      <th>181</th>\n      <td>Data Engineer</td>\n      <td>Microsoft</td>\n      <td>Bengaluru, Karnataka, India</td>\n      <td>https://in.linkedin.com/jobs/view/%E2%80%8B%E2...</td>\n    </tr>\n    <tr>\n      <th>182</th>\n      <td>Data Analytics Engineer, YouTube</td>\n      <td>Google</td>\n      <td>Los Angeles, CA</td>\n      <td>https://www.linkedin.com/jobs/view/data-analyt...</td>\n    </tr>\n    <tr>\n      <th>240</th>\n      <td>Data Analytics Engineer, YouTube</td>\n      <td>Google</td>\n      <td>New York, NY</td>\n      <td>https://www.linkedin.com/jobs/view/data-analyt...</td>\n    </tr>\n    <tr>\n      <th>241</th>\n      <td>Data Engineer</td>\n      <td>Microsoft</td>\n      <td>Bengaluru, Karnataka, India</td>\n      <td>https://in.linkedin.com/jobs/view/%E2%80%8B%E2...</td>\n    </tr>\n    <tr>\n      <th>242</th>\n      <td>Data Analytics Engineer, YouTube</td>\n      <td>Google</td>\n      <td>Los Angeles, CA</td>\n      <td>https://www.linkedin.com/jobs/view/data-analyt...</td>\n    </tr>\n  </tbody>\n</table>\n</div>"
     },
     "execution_count": 26,
     "metadata": {},
     "output_type": "execute_result"
    }
   ],
   "source": [
    "df = pd.read_csv(\"./csvs/example_linkedin_jobs.csv\")\n",
    "# all posts with at least one value\n",
    "# df = df[df.notna()]\n",
    "# return df there's no job title\n",
    "df = df[df['Title'].notna()]\n",
    "print(f\"Results: {len(df)}\")\n",
    "df.head(50)"
   ],
   "metadata": {
    "collapsed": false
   }
  },
  {
   "cell_type": "code",
   "execution_count": 27,
   "outputs": [
    {
     "data": {
      "text/plain": "Location\nNew York, NY                   5\nBengaluru, Karnataka, India    5\nLos Angeles, CA                5\nName: count, dtype: int64"
     },
     "execution_count": 27,
     "metadata": {},
     "output_type": "execute_result"
    }
   ],
   "source": [
    "df['Location'].value_counts()"
   ],
   "metadata": {
    "collapsed": false
   }
  },
  {
   "cell_type": "code",
   "execution_count": 28,
   "outputs": [
    {
     "data": {
      "text/plain": "Company\nGoogle       10\nMicrosoft     5\nName: count, dtype: int64"
     },
     "execution_count": 28,
     "metadata": {},
     "output_type": "execute_result"
    }
   ],
   "source": [
    "df['Company'].value_counts()"
   ],
   "metadata": {
    "collapsed": false
   }
  },
  {
   "cell_type": "code",
   "execution_count": null,
   "outputs": [],
   "source": [],
   "metadata": {
    "collapsed": false
   }
  }
 ],
 "metadata": {
  "kernelspec": {
   "display_name": "Python 3",
   "language": "python",
   "name": "python3"
  },
  "language_info": {
   "codemirror_mode": {
    "name": "ipython",
    "version": 2
   },
   "file_extension": ".py",
   "mimetype": "text/x-python",
   "name": "python",
   "nbconvert_exporter": "python",
   "pygments_lexer": "ipython2",
   "version": "2.7.6"
  }
 },
 "nbformat": 4,
 "nbformat_minor": 0
}
